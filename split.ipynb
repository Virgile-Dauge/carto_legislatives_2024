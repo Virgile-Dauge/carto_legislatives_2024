{
 "cells": [
  {
   "cell_type": "code",
   "execution_count": 3,
   "metadata": {},
   "outputs": [],
   "source": [
    "import geopandas as gpd\n",
    "from pathlib import Path\n",
    "from topojson import Topology\n",
    "import pandas as pd\n",
    "from shapely.geometry import Polygon\n",
    "\n",
    "def process_dep(dep, bv_gdf, ci_gdf, bv_df, ci_df, election, t=0.001):\n",
    "    print(f'Processing {dep}...')\n",
    "    dep_bv_gdf = bv_gdf[bv_gdf['bv_id'].str.startswith(str(dep))].copy()\n",
    "    dep_ci_gdf = ci_gdf[ci_gdf['dep'] == str(dep)].copy()\n",
    "    dep_bv_df = bv_df[bv_df['Code département'] == dep].copy()\n",
    "    dep_ci_df = ci_df[ci_df['Code département'] == dep].copy()\n",
    "    print(f'Simplifying {dep}...')\n",
    "\n",
    "    try:\n",
    "        initial_crs = dep_bv_gdf.crs\n",
    "        dep_bv_gdf.geometry = dep_bv_gdf.geometry.make_valid().to_crs(epsg=2154).buffer(0.00001)\n",
    "        geojson_data = dep_bv_gdf.__geo_interface__\n",
    "\n",
    "        # Create Topology and simplify\n",
    "        topo = Topology(data=geojson_data, toposimplify=t).to_gdf()\n",
    "        # Re-project back to the original CRS if needed\n",
    "        topo = topo.set_crs(epsg=2154).to_crs(initial_crs)\n",
    "        topo.set_index('bv_id', drop=True, inplace=True)\n",
    "        topo.drop(columns=[c for c in topo.columns if c != 'geometry'], inplace=True)\n",
    "        def convert_to_polygon(geometry):\n",
    "            if geometry.geom_type == 'Polygon':\n",
    "                return geometry\n",
    "            elif geometry.geom_type == 'MultiPolygon':\n",
    "                # Return the largest polygon by area\n",
    "                return geometry\n",
    "                #return max(geometry, key=lambda a: a.area)\n",
    "            elif geometry.geom_type == 'GeometryCollection':\n",
    "                # Extract polygons from GeometryCollection\n",
    "                polygons = [geom for geom in geometry.geoms if isinstance(geom, Polygon)]\n",
    "                if polygons:\n",
    "                    return max(polygons, key=lambda a: a.area)\n",
    "            return None\n",
    "        topo['geometry'] = topo['geometry'].apply(convert_to_polygon)\n",
    "\n",
    "    except Exception as e:\n",
    "        print(e)\n",
    "\n",
    "    dep_bv_df['bv_id'] = dep_bv_df['Code commune'].astype(str) + '_' + dep_bv_df['Code BV'].astype(str)\n",
    "    dep_ci_df['ci_id'] = dep_ci_df['id_circo'].astype(str)\n",
    "    dep_ci_df = dep_ci_df.drop(columns=['id_circo'])\n",
    "    dep_ci_gdf['ci_id'] = dep_ci_gdf['id_circo'].astype(str)\n",
    "    dep_ci_gdf = dep_ci_gdf.drop(columns=['id_circo'])\n",
    "\n",
    "    print(f'Saving {dep}...')\n",
    "    output_dir = Path(f'~/workspace/carto_legislatives_2024//départements/{dep}').expanduser()\n",
    "    output_dir.mkdir(parents=True, exist_ok=True)\n",
    "    topo.to_file(output_dir / Path(f'bureaux_votes_{dep}.gpkg'), driver='GPKG')\n",
    "    dep_ci_gdf.to_file(output_dir / Path(f'circonscriptions_{dep}.gpkg'), driver='GPKG')\n",
    "    dep_bv_df.to_excel(output_dir / Path(f'{election}_bureaux_votes_{dep}.xlsx'), index=False)\n",
    "    dep_ci_df.to_excel(output_dir / Path(f'{election}_circonscriptions_{dep}.xlsx'), index=False)"
   ]
  },
  {
   "cell_type": "code",
   "execution_count": 20,
   "metadata": {},
   "outputs": [],
   "source": [
    "import geopandas as gpd\n",
    "from pathlib import Path\n",
    "from topojson import Topology\n",
    "import pandas as pd\n",
    "\n",
    "def process_simple_dep(dep, bv_gdf, ci_gdf, bv_df, ci_df, election, t=0.001):\n",
    "    print(f'Processing {dep}...')\n",
    "    dep_bv_gdf = bv_gdf[bv_gdf['bv_id'].str.startswith(str(dep))].copy()\n",
    "    dep_ci_gdf = ci_gdf[ci_gdf['dep'] == str(dep)].copy()\n",
    "    dep_bv_df = bv_df[bv_df['Code département'] == dep].copy()\n",
    "    dep_ci_df = ci_df[ci_df['Code département'] == dep].copy()\n",
    "\n",
    "    dep_bv_df['bv_id'] = dep_bv_df['Code commune'].astype(str) + '_' + dep_bv_df['Code BV'].astype(str)\n",
    "    dep_ci_df['ci_id'] = dep_ci_df['id_circo'].astype(str)\n",
    "    dep_ci_df = dep_ci_df.drop(columns=['id_circo'])\n",
    "    dep_ci_gdf['ci_id'] = dep_ci_gdf['id_circo'].astype(str)\n",
    "    dep_ci_gdf = dep_ci_gdf.drop(columns=['id_circo'])\n",
    "\n",
    "    print(f'Saving {dep}...')\n",
    "    output_dir = Path(f'~/workspace/carto_legislatives_2024//départements/{dep}').expanduser()\n",
    "    output_dir.mkdir(parents=True, exist_ok=True)\n",
    "    dep_bv_gdf.to_file(output_dir / Path(f'bureaux_votes_{dep}.gpkg'), driver='GPKG')\n",
    "    dep_ci_gdf.to_file(output_dir / Path(f'circonscriptions_{dep}.gpkg'), driver='GPKG')\n",
    "    dep_bv_df.to_excel(output_dir / Path(f'{election}_bureaux_votes_{dep}.xlsx'), index=False)\n",
    "    dep_ci_df.to_excel(output_dir / Path(f'{election}_circonscriptions_{dep}.xlsx'), index=False)"
   ]
  },
  {
   "cell_type": "code",
   "execution_count": 2,
   "metadata": {},
   "outputs": [
    {
     "name": "stdout",
     "output_type": "stream",
     "text": [
      "Loading big files...\n"
     ]
    }
   ],
   "source": [
    "election = 'euro24'\n",
    "print(f'Loading big files...')\n",
    "geom_dir = Path('~/workspace/carto_legislatives_2024/pre-traité/geometries/').expanduser()\n",
    "data_dir = Path('~/workspace/carto_legislatives_2024/pre-traité/').expanduser() / Path(election)\n",
    "\n",
    "bv_gdf = gpd.read_file(geom_dir / Path('bureaux_votes_reco.gpkg'))\n",
    "ci_gdf = gpd.read_file(geom_dir / Path('circonscriptions.gpkg'))\n",
    "bv_df = pd.read_excel(data_dir / Path('resultats_fr_par_bureau.xlsx'))\n",
    "ci_df = pd.read_excel(data_dir / Path('resultats_fr_par_circonscription.xlsx'))"
   ]
  },
  {
   "cell_type": "code",
   "execution_count": 4,
   "metadata": {},
   "outputs": [
    {
     "name": "stdout",
     "output_type": "stream",
     "text": [
      "Processing 44...\n",
      "Simplifying 44...\n",
      "Saving 44...\n"
     ]
    }
   ],
   "source": [
    "process_dep(44, bv_gdf, ci_gdf, bv_df, ci_df, election)"
   ]
  }
 ],
 "metadata": {
  "kernelspec": {
   "display_name": "Python 3 (ipykernel)",
   "language": "python",
   "name": "python3"
  },
  "language_info": {
   "codemirror_mode": {
    "name": "ipython",
    "version": 3
   },
   "file_extension": ".py",
   "mimetype": "text/x-python",
   "name": "python",
   "nbconvert_exporter": "python",
   "pygments_lexer": "ipython3",
   "version": "3.10.12"
  }
 },
 "nbformat": 4,
 "nbformat_minor": 2
}
